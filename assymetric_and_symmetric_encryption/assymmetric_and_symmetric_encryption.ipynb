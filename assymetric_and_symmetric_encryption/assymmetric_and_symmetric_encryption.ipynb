{
 "cells": [
  {
   "cell_type": "markdown",
   "id": "0c96b719-6862-43c0-b575-096a9935930f",
   "metadata": {},
   "source": [
    "# Imports Used in Encryption Handlers\n",
    "\n",
    "This section lists the necessary libraries and modules imported for implementing encryption handlers.\n",
    "\n",
    "### Imports:\n",
    "\n",
    "- **`from abc import ABC, abstractmethod`**: Imports the `ABC` class and `abstractmethod` decorator from the `abc` module, which are used to define abstract base classes and methods for encryption handler classes.\n",
    "  \n",
    "- **`from cryptography.hazmat.primitives.asymmetric import rsa, padding`**: Imports the `rsa` module for handling RSA key generation and encryption, and the `padding` module for adding cryptographic padding to the messages during asymmetric encryption.\n",
    "\n",
    "- **`from cryptography.hazmat.primitives import hashes`**: Imports the `hashes` module, which provides hash algorithms like SHA256, used in encryption padding schemes.\n",
    "\n",
    "- **`from cryptography.fernet import Fernet`**: Imports the `Fernet` class from the `cryptography` library, which is used for symmetric encryption and decryption with a shared key.\n",
    "\n",
    "- **`import uuid`**: Imports the `uuid` module, which is used to generate unique identifiers for users.\n"
   ]
  },
  {
   "cell_type": "code",
   "execution_count": 1,
   "id": "e987a59f-3e3c-4e31-b14c-8ce9dfc4d651",
   "metadata": {},
   "outputs": [],
   "source": [
    "from abc import ABC, abstractmethod\n",
    "from cryptography.hazmat.primitives.asymmetric import rsa, padding\n",
    "from cryptography.hazmat.primitives import hashes\n",
    "from cryptography.fernet import Fernet\n",
    "import uuid"
   ]
  },
  {
   "cell_type": "markdown",
   "id": "6ed29ebd-9a52-46d2-ba12-9b4686537f38",
   "metadata": {},
   "source": [
    "# Abstract Base Class for Encryption Handlers\n",
    "\n",
    "This Python class, `AbstractEncryptionHandler`, serves as an **Abstract Base Class (ABC)** that defines the structure for any encryption handler. The purpose of this class is to enforce a common interface for all encryption handler classes (e.g., symmetric encryption, asymmetric encryption).\n",
    "\n",
    "It provides four abstract methods, which must be implemented by any subclass:\n",
    "\n",
    "1. **`encrypt_message(self, message, key=None)`**:\n",
    "    - **Purpose**: This method is intended to encrypt a given message.\n",
    "    - **Parameters**:\n",
    "        - `message`: The message that needs to be encrypted.\n",
    "        - `key`: The encryption key used to encrypt the message. It is optional because some encryption methods may not require an explicit key (like in certain symmetric algorithms).\n",
    "    - **Note**: The encryption method must be implemented in subclasses based on the type of encryption (e.g., RSA, AES, Fernet).\n",
    "\n",
    "2. **`decrypt_message(self, encrypted_message)`**:\n",
    "    - **Purpose**: This method decrypts an encrypted message.\n",
    "    - **Parameters**:\n",
    "        - `encrypted_message`: The message that has been encrypted.\n",
    "    - **Note**: This will return the decrypted message in its original form.\n",
    "\n",
    "3. **`get_encryption_key(self)`**:\n",
    "    - **Purpose**: This method is used to retrieve the encryption key used by the encryption handler.\n",
    "    - **Return**: The encryption key that is being used for encrypting messages.\n",
    "    - **Note**: This is particularly useful for cases where keys need to be shared or managed separately from the encryption process.\n",
    "\n",
    "4. **`get_decryption_key(self)`**:\n",
    "    - **Purpose**: This method retrieves the key used for decryption.\n",
    "    - **Return**: The decryption key used to reverse the encryption process.\n",
    "    - **Note**: In cases of asymmetric encryption, the decryption key may be different from the encryption key.\n",
    "\n",
    "### Why Abstract Base Class?\n",
    "\n",
    "- **Consistency**: It ensures that any encryption handler class will have these key methods, maintaining a consistent interface across different encryption types (like symmetric or asymmetric encryption).\n",
    "- **Extendability**: This design allows you to add new encryption methods (e.g., AES, RSA) by creating subclasses that implement the abstract methods.\n",
    "- **Polymorphism**: By using an abstract base class, you can handle different types of encryption using a common interface, making the code cleaner and more maintainable.\n",
    "\n",
    "### Example Usage:\n",
    "Any subclass of `AbstractEncryptionHandler` would implement these methods with specific encryption logic. For example, a `SymmetricEncryptionHandler` could use AES or Fernet for encryption, while an `AsymmetricEncryptionHandler` might use RSA or Elliptic Curve Cryptography (ECC).\n"
   ]
  },
  {
   "cell_type": "code",
   "execution_count": 3,
   "id": "591c435d-4598-443d-b451-de8ca6d28675",
   "metadata": {},
   "outputs": [],
   "source": [
    "# Abstract Base Class for Encryption Handlers\n",
    "class AbstractEncryptionHandler(ABC):\n",
    "    @abstractmethod\n",
    "    def encrypt_message(self, message, key = None):\n",
    "        \"\"\"Encrypt a message.\"\"\"\n",
    "        pass\n",
    "\n",
    "    @abstractmethod\n",
    "    def decrypt_message(self, encrypted_message):\n",
    "        \"\"\"Decrypt a message.\"\"\"\n",
    "        pass\n",
    "\n",
    "    @abstractmethod\n",
    "    def get_encryption_key(self):\n",
    "        \"\"\"Retrieve the encryption key.\"\"\"\n",
    "        pass\n",
    "\n",
    "    @abstractmethod\n",
    "    def get_decryption_key(self):\n",
    "        \"\"\"Retrieve the decryption key.\"\"\"\n",
    "        pass"
   ]
  },
  {
   "cell_type": "markdown",
   "id": "c7cda7d9-302e-4625-a4dc-1ad1b77eaa62",
   "metadata": {},
   "source": [
    "# Symmetric Encryption Handler\n",
    "\n",
    "The `SymmetricEncryptionHandler` class is a concrete implementation of the `AbstractEncryptionHandler` class, designed specifically for symmetric encryption using the **Fernet** encryption algorithm.\n",
    "\n",
    "In symmetric encryption, the same key is used for both encryption and decryption. This class allows the user to encrypt and decrypt messages with the same key, which can either be provided by the user or generated automatically.\n",
    "\n",
    "### Key Features:\n",
    "- **Encryption and Decryption**: The handler supports encryption and decryption of messages using Fernet.\n",
    "- **Key Management**: The encryption key can be supplied by the user or automatically generated by the handler.\n",
    "- **Simplicity**: This handler focuses on symmetric encryption, where both encryption and decryption use the same key.\n"
   ]
  },
  {
   "cell_type": "code",
   "execution_count": 5,
   "id": "1d57b360-8626-41da-a368-bbdefbce6bac",
   "metadata": {},
   "outputs": [],
   "source": [
    "# Symmetric Encryption Handler\n",
    "class SymmetricEncryptionHandler(AbstractEncryptionHandler):\n",
    "    def __init__(self, key=None):\n",
    "        self.__key = key or self.generate_key()\n",
    "\n",
    "    @staticmethod\n",
    "    def generate_key():\n",
    "        \"\"\"Generate a symmetric encryption key.\"\"\"\n",
    "        return Fernet.generate_key()\n",
    "\n",
    "    def encrypt_message(self, message, key = None):\n",
    "        encryption_key = key or self.__key\n",
    "        \"\"\"Encrypt a message using the provided key.\"\"\"\n",
    "        f = Fernet(encryption_key)\n",
    "        encrypted_message = f.encrypt(message.encode())\n",
    "        return encrypted_message\n",
    "\n",
    "    def decrypt_message(self, encrypted_message):\n",
    "        \"\"\"Decrypt an encrypted message using the provided key.\"\"\"\n",
    "        f = Fernet(self.__key)\n",
    "        decrypted_message = f.decrypt(encrypted_message).decode()\n",
    "        return decrypted_message\n",
    "\n",
    "    def get_encryption_key(self):\n",
    "        return self.__key\n",
    "\n",
    "    def get_decryption_key(self):\n",
    "        return self.__key"
   ]
  },
  {
   "cell_type": "markdown",
   "id": "c4f6f47f-3df1-4a1d-b166-1923795b08f0",
   "metadata": {},
   "source": [
    "# Example of Symmetric Encryption\n",
    "\n",
    "This example demonstrates how to use the `SymmetricEncryptionHandler` class to encrypt and decrypt a message using symmetric encryption.\n",
    "\n",
    "### Steps in the Example:\n",
    "1. **Create a `SymmetricEncryptionHandler` Instance**: We create an instance of the `SymmetricEncryptionHandler` class, which will handle the encryption and decryption operations.\n",
    "   \n",
    "2. **Define the Message**: The message to be encrypted is stored in the `message` variable. In this case, the message is \"This is a secret message.\"\n",
    "\n",
    "3. **Encrypt the Message**: The `encrypt_message()` method is used to encrypt the message. The encrypted message is printed as a byte sequence.\n",
    "\n",
    "4. **Decrypt the Message**: The `decrypt_message()` method is used to decrypt the encrypted message back to its original form, and the result is printed.\n",
    "\n",
    "### Output:\n",
    "- **Encrypted Message**: The encrypted version of the original message is displayed as a byte string.\n",
    "- **Decrypted Message**: The decrypted message matches the original plaintext message.\n",
    "\n",
    "This example shows how symmetric encryption works with the same key for both encryption and decryption. It uses the **Fernet** algorithm for encryption, which ensures the confidentiality of the message by transforming it into an unreadable format, then decrypting it back into the original readable format.\n"
   ]
  },
  {
   "cell_type": "code",
   "execution_count": 8,
   "id": "7e2e7eca-dee9-4712-928f-1d1251b6cc4e",
   "metadata": {},
   "outputs": [
    {
     "name": "stdout",
     "output_type": "stream",
     "text": [
      "Encrypted Message: b'gAAAAABnPjMpVV98FVnXqt4bgNnTFZjJe97uTLchrtZ1sZo_K5ggtDr_c1fdMH7iUZYSY6p2Js1NqVH8GndiuIH058lySlaV5Kpi_BwrylmLcgNm26nOPh4='\n",
      "Decrypted Message: This is a secret message.\n"
     ]
    }
   ],
   "source": [
    "handler = SymmetricEncryptionHandler()\n",
    "\n",
    "message = \"This is a secret message.\"\n",
    "\n",
    "encrypted_message = handler.encrypt_message(message)\n",
    "print(f\"Encrypted Message: {encrypted_message}\")\n",
    "\n",
    "decrypted_message = handler.decrypt_message(encrypted_message)\n",
    "print(f\"Decrypted Message: {decrypted_message}\")"
   ]
  },
  {
   "cell_type": "markdown",
   "id": "3c151108-1762-4fd9-898a-27fca7b47ee8",
   "metadata": {},
   "source": [
    "# Example of Symmetric Encryption with Different Keys (Fails)\n",
    "\n",
    "This example demonstrates what happens when you try to decrypt a message using a different key than the one used for encryption, which causes the decryption to fail.\n",
    "\n",
    "### Steps in the Example:\n",
    "1. **Create Two `SymmetricEncryptionHandler` Instances**: Two instances of the `SymmetricEncryptionHandler` class are created, each with its own unique key.\n",
    "   \n",
    "2. **Define the Message**: A secret message is defined that will be encrypted.\n",
    "\n",
    "3. **Encrypt the Message**: The message is encrypted using `handler_1`'s encryption key.\n",
    "\n",
    "4. **Attempt Decryption with a Different Key**: The encrypted message is then attempted to be decrypted using `handler_2`'s key, which is different from the key used for encryption.\n",
    "\n",
    "### Expected Output:\n",
    "- **Encrypted Message**: The encrypted message is displayed as a byte string.\n",
    "- **Decryption Failure**: Since the encryption key and decryption key don't match, an exception is raised during decryption. The error message indicating the failure is printed.\n",
    "\n",
    "This example highlights the importance of using the same key for both encryption and decryption in symmetric encryption. When the keys don't match, decryption will fail, and the original message cannot be retrieved.\n"
   ]
  },
  {
   "cell_type": "code",
   "execution_count": 9,
   "id": "45638a01-ab5d-418c-a872-bbb1155691ad",
   "metadata": {},
   "outputs": [
    {
     "name": "stdout",
     "output_type": "stream",
     "text": [
      "Encrypted Message: b'gAAAAABnPjNRlaFygvVfg_i9DJn3roRpS3py86hF3m0piHWtRsbPzroHsb8pxymZbK0saFIvb-QfoCi0x8O1lpRffn3-lcMrxarxFha0YeSu0YOkl2NyjYo='\n",
      "Decryption failed: \n"
     ]
    }
   ],
   "source": [
    "handler_1 = SymmetricEncryptionHandler()\n",
    "handler_2 = SymmetricEncryptionHandler()\n",
    "\n",
    "message = \"This is a secret message.\"\n",
    "\n",
    "encrypted_message = handler_1.encrypt_message(message)\n",
    "print(f\"Encrypted Message: {encrypted_message}\")\n",
    "\n",
    "# Attempt to decrypt the message using handler_2's key (which is different)\n",
    "try:\n",
    "    decrypted_message = handler_2.decrypt_message(encrypted_message)\n",
    "    print(f\"Decrypted Message: {decrypted_message}\")\n",
    "except Exception as e:\n",
    "    print(f\"Decryption failed: {e}\")"
   ]
  },
  {
   "cell_type": "markdown",
   "id": "c34a7d15-6217-4ba7-ad52-e8aec8359022",
   "metadata": {},
   "source": [
    "# Asymmetric Encryption Handler\n",
    "\n",
    "The `AsymmetricEncryptionHandler` class is a concrete implementation of the `AbstractEncryptionHandler` class, designed specifically for asymmetric encryption using the RSA algorithm.\n",
    "\n",
    "In asymmetric encryption, two keys are used: a **public key** for encryption and a **private key** for decryption. This class allows the user to encrypt and decrypt messages with these two distinct keys.\n",
    "\n",
    "### Key Features:\n",
    "- **Public and Private Key Management**: The class generates an RSA private key and derives the corresponding public key.\n",
    "- **Encryption and Decryption**: The `encrypt_message` method uses the public key to encrypt messages, and the `decrypt_message` method uses the private key to decrypt messages.\n",
    "- **Key Retrieval**: Methods are provided to retrieve the public and private keys.\n"
   ]
  },
  {
   "cell_type": "code",
   "execution_count": 12,
   "id": "b34cc4a2-5684-4927-bef1-7ed2d3110102",
   "metadata": {},
   "outputs": [],
   "source": [
    "# Asymmetric Encryption Handler\n",
    "class AsymmetricEncryptionHandler(AbstractEncryptionHandler):\n",
    "    def __init__(self):\n",
    "        self.__private_key = self.generate_key()\n",
    "        self.__public_key = self.__private_key.public_key()\n",
    "\n",
    "    @staticmethod\n",
    "    def generate_key():\n",
    "        \"\"\"Generate an RSA private key.\"\"\"\n",
    "        return rsa.generate_private_key(\n",
    "            public_exponent=65537,\n",
    "            key_size=2048,\n",
    "        )\n",
    "\n",
    "    def encrypt_message(self, message, key = None):\n",
    "        public_key = key or self.__public_key\n",
    "        \n",
    "        \"\"\"Encrypt a message using the public key.\"\"\"\n",
    "        encrypted_message = public_key.encrypt(\n",
    "            message.encode(),\n",
    "            padding.OAEP(\n",
    "                mgf=padding.MGF1(algorithm=hashes.SHA256()),\n",
    "                algorithm=hashes.SHA256(),\n",
    "                label=None,\n",
    "            ),\n",
    "        )\n",
    "        return encrypted_message\n",
    "\n",
    "    def decrypt_message(self, encrypted_message):\n",
    "        \"\"\"Decrypt an encrypted message using the private key.\"\"\"\n",
    "        decrypted_message = self.__private_key.decrypt(\n",
    "            encrypted_message,\n",
    "            padding.OAEP(\n",
    "                mgf=padding.MGF1(algorithm=hashes.SHA256()),\n",
    "                algorithm=hashes.SHA256(),\n",
    "                label=None,\n",
    "            ),\n",
    "        ).decode()\n",
    "        return decrypted_message\n",
    "\n",
    "    def get_encryption_key(self):\n",
    "        \"\"\"Retrieve the public key.\"\"\"\n",
    "        return self.__public_key\n",
    "\n",
    "    def get_decryption_key(self):\n",
    "        \"\"\"Retrieve the private key.\"\"\"\n",
    "        return self.__private_key"
   ]
  },
  {
   "cell_type": "markdown",
   "id": "f4be60dc-efb2-4177-8496-fe954c4dac24",
   "metadata": {},
   "source": [
    "## Example usage"
   ]
  },
  {
   "cell_type": "code",
   "execution_count": 13,
   "id": "560d82d1-70a6-4f43-96c8-14cea1ad109d",
   "metadata": {},
   "outputs": [
    {
     "name": "stdout",
     "output_type": "stream",
     "text": [
      "Encrypted Message: b\"y\\xe3\\xa9J\\xcb\\x9f\\xc8\\r>t\\xfc\\xef\\xf5;v\\xdb1\\xd7\\xa1\\xdd\\xe3uc\\x94\\x12'[\\xeb\\xdf\\xe8\\x14[\\x1d\\x19\\xa9\\x01y\\xcbbB\\xe6\\xae\\xbf\\xe6\\x07W@\\xadg\\xd63\\xe4\\xe7\\x08\\x1f\\xb5\\xa1\\x15+\\x13\\xac\\x96\\xb8\\x93\\xb1\\xfd\\x082gI\\xe2\\x88c\\xed\\n\\xfa\\x12\\xf9\\xb8\\xe8\\xfep\\xc2\\xfd\\xb4|\\x06\\xd6q\\x91W\\xf1th\\xabe\\xa6*k\\x05\\x06\\xec\\xec\\x8d\\xd1i\\x93\\x86\\x1dh\\xc4K\\xa8F#\\x10\\xe7\\x8axDr\\x81\\xaf\\x87\\xc6\\x8e\\x1c\\xc6\\xf3wN\\xb5\\xe4\\r\\xef#\\xeb\\x95\\xf4\\xb1\\x0eM\\xbd\\xfe\\x8d9h\\x9a\\x03\\x11\\x8a\\\\4_A\\xcczX!\\xa8\\xa7Z3&.R\\xe0\\xe3L\\xc3\\xb1\\xa5\\xeb\\xd3\\xed\\xfag\\xc5\\xb3\\x1e1NN\\xbe>.\\xa6\\xc2\\xde\\xaf\\x80\\x83*8xh}\\xb7\\xbd\\x15\\xf53KA\\x02m8\\x0c<\\xc1^\\xa2?\\xd7@\\x13\\x8c\\xfc\\x07\\x05\\x15'\\xebg\\xe2Pg*\\xe3\\x1e\\xe5\\xbdH\\xa1M\\x112\\xbcG\\x1c\\x1e\\xa5\\xa3\\xc0\\xed\\xa0\\xf7r\\x07\\xe3\\x03\\x92$\\xe0\\xe2\\xb1\"\n",
      "Decrypted Message: This is a confidential message.\n"
     ]
    }
   ],
   "source": [
    "# Create an instance of AsymmetricEncryptionHandler\n",
    "handler = AsymmetricEncryptionHandler()\n",
    "\n",
    "# Define a message to be encrypted\n",
    "message = \"This is a confidential message.\"\n",
    "\n",
    "# Encrypt the message using the public key\n",
    "encrypted_message = handler.encrypt_message(message)\n",
    "print(f\"Encrypted Message: {encrypted_message}\")\n",
    "\n",
    "# Decrypt the message using the private key\n",
    "decrypted_message = handler.decrypt_message(encrypted_message)\n",
    "print(f\"Decrypted Message: {decrypted_message}\")"
   ]
  },
  {
   "cell_type": "markdown",
   "id": "0456ba56-422d-43e3-b83c-349e300b7666",
   "metadata": {},
   "source": [
    "# Example of Asymmetric Encryption with Incorrect Key (Fails)\n",
    "\n",
    "This example demonstrates what happens when you try to decrypt a message using a private key that doesn't correspond to the public key used for encryption. In asymmetric encryption, the decryption process will fail if the incorrect private key is used, as the encryption and decryption keys must form a matching pair."
   ]
  },
  {
   "cell_type": "code",
   "execution_count": 14,
   "id": "ab4c6587-8126-493d-a03a-94834fbfe908",
   "metadata": {},
   "outputs": [
    {
     "name": "stdout",
     "output_type": "stream",
     "text": [
      "Encrypted Message: b'\\xceE\\xd1u}q\\xed\\xc7\\xe6\\x14\\xa4\\x1by\\x08\\x10\\xd3XE\\xbe!}\\xbe\\x80\\xa7\\x91m\\x14^4z<\\x88j\\ry\\xc7\\x05`.\\x18\\xb9\\xc4\\xb1\\xe9O\\x91\\x01\\xce\\x1a\\xf4Y\\xbd\\xee\\xa4p\\xd7\\xbc\\x8eG\\x1bjG \\xa4A!\\xf1\\xe67\\xfe\\xd1P*\\xa3\\xfag\\x1f\\x05g\\xb0\\xcf\\xb4\\xf6\\xed\\x14z`\\x87\\x82c\\xcf\\xc4;\\xc4\\xf7T\\xd6ap\\xfe\\x97Jw\\xb1\\x1eR2\\xd2\\xc1dZ\\x1d\\xf2q~\\x93\\x1fE\\xaac\\x153\\x0eT\\xcf\" \\'\\xf7\\xbe\\xc3\\xc6\\xa0\\xc3Y\\x18l\\xa7\\xf7\\xb13\\xb6\\x0e}\\x1f\\xad\\xac\\x9b\\r\\xd4\\x93hQ\\x14\\x19Jg\\xea:@>\\xfa\\x08\\xf6\\xb2\\x17}+>\\xe2\\x85g\\x86\\x85\\x99\\xe0\\xe4?v\\x1aT\\xd8\\xfd\\xf5\\x8b.\\xa6\\xe8;\\xf4\\x08P\\xebt\\x0e\\xc5l\\x1fNS\\x02\\x18\\xc1\\xdbe\\x0c\\'\\\\Z\\x0e\\x01\\x959\\x17R=\\x9eOq\\x175\\xa5R*\\xd9\\x8b\\xeb\\xe7Z\\x88kX]6nD\\xe3\\xf9\\xa2\\x1b\\x07@bI\\xbf\\x00\\xf5c\\xcb8\\xd4\\xfe\\xb4P\\xe5\\xa3'\n",
      "Decryption failed: Decryption failed\n"
     ]
    }
   ],
   "source": [
    "handler_1 = AsymmetricEncryptionHandler()  # This will have its own public/private key pair\n",
    "handler_2 = AsymmetricEncryptionHandler()  # This will have a different public/private key pair\n",
    "\n",
    "# Define a message to be encrypted\n",
    "message = \"This is a confidential message.\"\n",
    "\n",
    "# Encrypt the message using handler_1's public key\n",
    "encrypted_message = handler_1.encrypt_message(message)\n",
    "print(f\"Encrypted Message: {encrypted_message}\")\n",
    "\n",
    "# Attempt to decrypt the message using handler_2's private key (which is not the correct private key)\n",
    "try:\n",
    "    decrypted_message = handler_2.decrypt_message(encrypted_message)\n",
    "    print(f\"Decrypted Message: {decrypted_message}\")\n",
    "except Exception as e:\n",
    "    print(f\"Decryption failed: {e}\")"
   ]
  },
  {
   "cell_type": "markdown",
   "id": "2273a7a5-4086-47dc-8547-a4ed8487738c",
   "metadata": {},
   "source": [
    "# User Class\n",
    "\n",
    "The `User` class represents a user in a system that can send and receive encrypted messages. Each user has a unique ID and can exchange encryption keys with other users. The class handles both symmetric and asymmetric encryption for communication.\n",
    "\n",
    "### Attributes:\n",
    "\n",
    "- **`id`**: A unique identifier for the user, generated using the `uuid` module.\n",
    "- **`name`**: The name of the user.\n",
    "- **`keys`**: A dictionary that stores the encryption keys and handlers for other users.\n",
    "\n",
    "### Methods:\n",
    "\n",
    "- **`__init__(self, name)`**: Initializes the user with a name and a unique ID. The `keys` dictionary is also initialized to store encryption data for other users.\n",
    "\n",
    "- **`receive_key_for_user(self, user, my_encryption_handler, encryption_key)`**: Stores the encryption key and handler for another user. This method is used when a user shares their encryption key with another user.\n",
    "\n",
    "- **`send_message_to(self, user, message)`**: Encrypts a message using the stored encryption key for a specified user and sends the encrypted message to that user.\n",
    "\n",
    "- **`receive_message_from(self, user, encrypted_message)`**: Decrypts the received encrypted message using the corresponding encryption key and handler, and prints the decrypted message.\n",
    "\n",
    "- **`exchange_keys(user1, user2, encryption_type)`**: A static method to exchange encryption keys between two users based on the specified encryption type (either \"symmetric\" or \"asymmetric\"). If symmetric encryption is used, the same key is exchanged for both users. If asymmetric encryption is used, the public keys are exchanged.\n",
    "\n",
    "### Usage:\n",
    "- A user can encrypt a message and send it to another user, who can then decrypt the message using the shared encryption key.\n",
    "- The `exchange_keys` method allows users to share encryption keys with each other for secure communication, depending on whether symmetric or asymmetric encryption is desired.\n"
   ]
  },
  {
   "cell_type": "code",
   "execution_count": 15,
   "id": "b5086143-a5c7-4228-ab8b-4ac7d20c3ea4",
   "metadata": {},
   "outputs": [],
   "source": [
    "class User:\n",
    "    def __init__(self, name):\n",
    "        \"\"\"\n",
    "        Initialize the user with a name and a unique ID.\n",
    "        \"\"\"\n",
    "        self.id = str(uuid.uuid4())  # Generate a unique ID for the user\n",
    "        self.name = name\n",
    "        self.keys = {}  # Store encryption information for other users\n",
    "\n",
    "    def send_key_to_user(self, user, encryption_type):\n",
    "        handler = None\n",
    "        \n",
    "        if encryption_type == \"symmetric\":\n",
    "            handler = SymmetricEncryptionHandler()\n",
    "\n",
    "        elif encryption_type == \"asymmetric\":\n",
    "            handler = AsymmetricEncryptionHandler()\n",
    "            \n",
    "        else:\n",
    "            raise ValueError(\"Unsupported encryption type\")\n",
    "\n",
    "        my_encryption_key = handler.get_encryption_key()\n",
    "\n",
    "        print(f\"{self.name} => (key) {user.name}.\")\n",
    "        user_encryption_key = user.__receive_key_for_user(self, my_encryption_key, encryption_type)\n",
    "        print(f\"{self.name} <= (key) {user.name}.\")\n",
    "\n",
    "        self.keys[user.id] = {\n",
    "            \"my_encryption_handler\": handler,\n",
    "            \"encryption_key\": user_encryption_key,\n",
    "        }\n",
    "        \n",
    "\n",
    "    def __receive_key_for_user(self, user, user_encryption_key, encryption_type):\n",
    "        if encryption_type == \"symmetric\":\n",
    "            handler = SymmetricEncryptionHandler()\n",
    "        elif encryption_type == \"asymmetric\":\n",
    "            handler = AsymmetricEncryptionHandler()\n",
    "        else:\n",
    "            raise ValueError(\"Unsupported encryption type\")\n",
    "\n",
    "        print(f\"{self.name} received a key from {user.name}.\")\n",
    "        \n",
    "        self.keys[user.id] = {\n",
    "            \"my_encryption_handler\": handler,\n",
    "            \"encryption_key\": user_encryption_key,\n",
    "        }\n",
    "        \n",
    "        return handler.get_encryption_key()\n",
    "\n",
    "    def send_message_to(self, user, message):\n",
    "        \"\"\"\n",
    "        Encrypt a message and send it to another user.\n",
    "        :param user: The user to send the message to.\n",
    "        :param message: The plaintext message to send.\n",
    "        \"\"\"\n",
    "        if user.id not in self.keys:\n",
    "            print(f\"{self.name} cannot send a message to {user.name}: Key not available.\")\n",
    "            return\n",
    "\n",
    "        encryption_info = self.keys[user.id]\n",
    "        my_encryption_handler = encryption_info[\"my_encryption_handler\"]\n",
    "        encryption_key = encryption_info[\"encryption_key\"]\n",
    "\n",
    "        encrypted_message = my_encryption_handler.encrypt_message(message, encryption_key)\n",
    "        user.receive_message_from(self, encrypted_message)\n",
    "\n",
    "    def receive_message_from(self, user, encrypted_message):\n",
    "        \"\"\"\n",
    "        Decrypt and display the message received from another user.\n",
    "        :param user: The user who sent the message.\n",
    "        :param encrypted_message: The encrypted message to decrypt.\n",
    "        \"\"\"\n",
    "        if user.id not in self.keys:\n",
    "            print(f\"{self.name} cannot decrypt message from {user.name}: Key not available.\")\n",
    "            return\n",
    "\n",
    "        encryption_info = self.keys[user.id]\n",
    "        my_encryption_handler = encryption_info[\"my_encryption_handler\"]\n",
    "\n",
    "        decrypted_message = my_encryption_handler.decrypt_message(encrypted_message)\n",
    "        print(f\"{self.name} received a message from {user.name}: {decrypted_message}\")\n"
   ]
  },
  {
   "cell_type": "markdown",
   "id": "8c5cdb4d-e5c4-426c-994d-242e7a561283",
   "metadata": {},
   "source": [
    "## Example Usage"
   ]
  },
  {
   "cell_type": "code",
   "execution_count": 16,
   "id": "a93761f3-c46e-4cb1-9316-34ea47ec1b98",
   "metadata": {},
   "outputs": [
    {
     "name": "stdout",
     "output_type": "stream",
     "text": [
      "Alice => (key) Bob.\n",
      "Bob received a key from Alice.\n",
      "Alice <= (key) Bob.\n",
      "Bob received a message from Alice: Hello Bob! This is a secret message.\n",
      "Alice received a message from Bob: Hi Alice, how have you been?\n"
     ]
    }
   ],
   "source": [
    "alice = User(\"Alice\")\n",
    "bob = User(\"Bob\")\n",
    "\n",
    "alice.send_key_to_user(bob, \"asymmetric\")\n",
    "\n",
    "# Step 3: Alice sends an encrypted message to Bob\n",
    "alice.send_message_to(bob, \"Hello Bob! This is a secret message.\")\n",
    "\n",
    "bob.send_message_to(alice, \"Hi Alice, how have you been?\")"
   ]
  },
  {
   "cell_type": "code",
   "execution_count": 24,
   "id": "15bcc201-8d91-4953-a2d6-fcc7d8687deb",
   "metadata": {},
   "outputs": [
    {
     "name": "stdout",
     "output_type": "stream",
     "text": [
      "Alice => (key) Bob.\n",
      "Bob received a key from Alice.\n",
      "Alice <= (key) Bob.\n",
      "Bob received a message from Alice: Hello Bob! This is a secret message.\n",
      "Alice received a message from Bob: Hi Alice, how have you been?\n"
     ]
    }
   ],
   "source": [
    "alice = User(\"Alice\")\n",
    "bob = User(\"Bob\")\n",
    "\n",
    "alice.send_key_to_user(bob, \"symmetric\")\n",
    "\n",
    "# Step 3: Alice sends an encrypted message to Bob\n",
    "alice.send_message_to(bob, \"Hello Bob! This is a secret message.\")\n",
    "\n",
    "bob.send_message_to(alice, \"Hi Alice, how have you been?\")"
   ]
  },
  {
   "cell_type": "code",
   "execution_count": null,
   "id": "088d494b-cdcf-43be-9d0f-84f8a469604d",
   "metadata": {},
   "outputs": [],
   "source": []
  }
 ],
 "metadata": {
  "kernelspec": {
   "display_name": "Python 3 (ipykernel)",
   "language": "python",
   "name": "python3"
  },
  "language_info": {
   "codemirror_mode": {
    "name": "ipython",
    "version": 3
   },
   "file_extension": ".py",
   "mimetype": "text/x-python",
   "name": "python",
   "nbconvert_exporter": "python",
   "pygments_lexer": "ipython3",
   "version": "3.13.0"
  }
 },
 "nbformat": 4,
 "nbformat_minor": 5
}
